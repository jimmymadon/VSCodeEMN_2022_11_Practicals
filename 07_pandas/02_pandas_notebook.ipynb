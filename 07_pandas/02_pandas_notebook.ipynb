{
 "cells": [
  {
   "cell_type": "code",
   "execution_count": 5,
   "metadata": {},
   "outputs": [],
   "source": [
    "import pandas as pd"
   ]
  },
  {
   "cell_type": "code",
   "execution_count": 6,
   "metadata": {},
   "outputs": [
    {
     "name": "stdout",
     "output_type": "stream",
     "text": [
      "Printing car_manufacturers\n",
      "['Mercedes', 'BMW', 'Audi', 'Citroen', 'Renault']\n",
      "Type of car_manufacturers: <class 'list'>\n"
     ]
    }
   ],
   "source": [
    "car_manufacturers = ['Mercedes', 'BMW', 'Audi', 'Citroen', 'Renault']\n",
    "print('Printing car_manufacturers')\n",
    "print(car_manufacturers)\n",
    "print('Type of car_manufacturers:', type(car_manufacturers))"
   ]
  },
  {
   "cell_type": "code",
   "execution_count": 7,
   "metadata": {},
   "outputs": [
    {
     "name": "stdout",
     "output_type": "stream",
     "text": [
      "Create and print a Pandas Series using a list\n",
      "0    Mercedes\n",
      "1         BMW\n",
      "2        Audi\n",
      "3     Citroen\n",
      "4     Renault\n",
      "dtype: object\n",
      "Type of car_manufacturers_series: <class 'pandas.core.series.Series'>\n",
      "Fourth car in the series: Citroen\n"
     ]
    }
   ],
   "source": [
    "print('Create and print a Pandas Series using a list')\n",
    "car_manufacturers_series = pd.Series(car_manufacturers)\n",
    "print(car_manufacturers_series)\n",
    "print('Type of car_manufacturers_series:', type(car_manufacturers_series))\n",
    "print('Fourth car in the series:', car_manufacturers_series[3])"
   ]
  },
  {
   "cell_type": "code",
   "execution_count": 8,
   "metadata": {},
   "outputs": [
    {
     "name": "stdout",
     "output_type": "stream",
     "text": [
      "Printing cars_series\n",
      "Mercedes     C Class\n",
      "BMW         3 Series\n",
      "Audi              Q7\n",
      "Citroen           C3\n",
      "Renault       Megane\n",
      "dtype: object\n",
      "Megane\n"
     ]
    }
   ],
   "source": [
    "car_models = ['C Class', '3 Series', 'Q7', 'C3', 'Megane']\n",
    "\n",
    "cars_series = pd.Series(car_models, car_manufacturers)\n",
    "print('Printing cars_series')\n",
    "print(cars_series)\n",
    "print(cars_series['Renault'])"
   ]
  },
  {
   "cell_type": "code",
   "execution_count": 9,
   "metadata": {},
   "outputs": [
    {
     "name": "stdout",
     "output_type": "stream",
     "text": [
      "Mercedes     C Class\n",
      "BMW         3 Series\n",
      "Audi              Q7\n",
      "dtype: object\n"
     ]
    }
   ],
   "source": [
    "cars_dictionary = {\n",
    "    'Mercedes': 'C Class',\n",
    "    'BMW': '3 Series',\n",
    "    'Audi': 'Q7'\n",
    "}\n",
    "cars_series_2 = pd.Series(cars_dictionary)\n",
    "print(cars_series_2)"
   ]
  },
  {
   "cell_type": "code",
   "execution_count": 10,
   "metadata": {},
   "outputs": [
    {
     "name": "stdout",
     "output_type": "stream",
     "text": [
      "   calories  duration\n",
      "0       420        50\n",
      "1       380        40\n",
      "2       390        45\n"
     ]
    }
   ],
   "source": [
    "data = {\n",
    "  \"calories\": [420, 380, 390],\n",
    "  \"duration\": [50, 40, 45]\n",
    "}\n",
    "\n",
    "#load data into a DataFrame object:\n",
    "workouts_dataframe = pd.DataFrame(data)\n",
    "\n",
    "print(workouts_dataframe) "
   ]
  },
  {
   "cell_type": "code",
   "execution_count": 12,
   "metadata": {},
   "outputs": [
    {
     "name": "stdout",
     "output_type": "stream",
     "text": [
      "calories    380\n",
      "duration     40\n",
      "Name: 1, dtype: int64\n",
      "<class 'pandas.core.series.Series'>\n"
     ]
    }
   ],
   "source": [
    "row1 = workouts_dataframe.loc[1]\n",
    "print(row1)\n",
    "print(type(row1))"
   ]
  },
  {
   "cell_type": "code",
   "execution_count": 13,
   "metadata": {},
   "outputs": [
    {
     "name": "stdout",
     "output_type": "stream",
     "text": [
      "   calories  duration\n",
      "1       380        40\n",
      "2       390        45\n",
      "<class 'pandas.core.frame.DataFrame'>\n"
     ]
    }
   ],
   "source": [
    "rows = workouts_dataframe.loc[[1,2]]\n",
    "print(rows)\n",
    "print(type(rows))"
   ]
  }
 ],
 "metadata": {
  "kernelspec": {
   "display_name": "Python 3.11.0 64-bit",
   "language": "python",
   "name": "python3"
  },
  "language_info": {
   "codemirror_mode": {
    "name": "ipython",
    "version": 3
   },
   "file_extension": ".py",
   "mimetype": "text/x-python",
   "name": "python",
   "nbconvert_exporter": "python",
   "pygments_lexer": "ipython3",
   "version": "3.11.0"
  },
  "orig_nbformat": 4,
  "vscode": {
   "interpreter": {
    "hash": "aee8b7b246df8f9039afb4144a1f6fd8d2ca17a180786b69acc140d282b71a49"
   }
  }
 },
 "nbformat": 4,
 "nbformat_minor": 2
}
