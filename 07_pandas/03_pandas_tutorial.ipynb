{
 "cells": [
  {
   "cell_type": "code",
   "execution_count": 31,
   "metadata": {},
   "outputs": [],
   "source": [
    "import pandas as pd"
   ]
  },
  {
   "cell_type": "code",
   "execution_count": 32,
   "metadata": {},
   "outputs": [],
   "source": [
    "workouts_dataframe = pd.read_csv('data.csv')"
   ]
  },
  {
   "cell_type": "code",
   "execution_count": 33,
   "metadata": {},
   "outputs": [
    {
     "name": "stdout",
     "output_type": "stream",
     "text": [
      "     Duration        Date  Pulse  Maxpulse  Calories\n",
      "0          60  01/12/2020    110       130     409.1\n",
      "1          60  02/12/2020    117       145     479.0\n",
      "2          60  03/12/2020    103       135     340.0\n",
      "3          45  04/12/2020    109       175     282.4\n",
      "4          45  05/12/2020    117       148     406.0\n",
      "..        ...         ...    ...       ...       ...\n",
      "164        60  14/05/2021    105       140     290.8\n",
      "165        60  15/05/2021    110       145     300.0\n",
      "166        60  16/05/2021    115       145     310.2\n",
      "167        75  17/05/2021    120       150     320.4\n",
      "168        75  18/05/2021    125       150     330.4\n",
      "\n",
      "[169 rows x 5 columns]\n"
     ]
    }
   ],
   "source": [
    "print(workouts_dataframe)"
   ]
  },
  {
   "cell_type": "code",
   "execution_count": 34,
   "metadata": {},
   "outputs": [
    {
     "name": "stdout",
     "output_type": "stream",
     "text": [
      "   Duration        Date  Pulse  Maxpulse  Calories\n",
      "0        60  01/12/2020    110       130     409.1\n",
      "1        60  02/12/2020    117       145     479.0\n",
      "2        60  03/12/2020    103       135     340.0\n",
      "3        45  04/12/2020    109       175     282.4\n",
      "4        45  05/12/2020    117       148     406.0\n",
      "5       450  06/12/2020    102       127     300.0\n",
      "6        60  07/12/2020    110       136     374.0\n",
      "7        45  08/12/2020    104       134     253.3\n",
      "8        30  09/12/2020    109       133     195.1\n",
      "9        60  10/12/2020     98       124     269.0\n"
     ]
    }
   ],
   "source": [
    "# The head() function prints the first x rows, x is the parameter\n",
    "print(workouts_dataframe.head(10))"
   ]
  },
  {
   "cell_type": "code",
   "execution_count": 35,
   "metadata": {},
   "outputs": [
    {
     "name": "stdout",
     "output_type": "stream",
     "text": [
      "     Duration        Date  Pulse  Maxpulse  Calories\n",
      "159        30  09/05/2021     80       120     240.9\n",
      "160        30  10/05/2021     85       120     250.4\n",
      "161        45  11/05/2021     90       130     260.4\n",
      "162        45  12/05/2021     95       130     270.0\n",
      "163        45  13/05/2021    100       140     280.9\n",
      "164        60  14/05/2021    105       140     290.8\n",
      "165        60  15/05/2021    110       145     300.0\n",
      "166        60  16/05/2021    115       145     310.2\n",
      "167        75  17/05/2021    120       150     320.4\n",
      "168        75  18/05/2021    125       150     330.4\n"
     ]
    }
   ],
   "source": [
    "print(workouts_dataframe.tail(10))"
   ]
  },
  {
   "cell_type": "code",
   "execution_count": 36,
   "metadata": {},
   "outputs": [
    {
     "name": "stdout",
     "output_type": "stream",
     "text": [
      "<class 'pandas.core.frame.DataFrame'>\n",
      "RangeIndex: 169 entries, 0 to 168\n",
      "Data columns (total 5 columns):\n",
      " #   Column    Non-Null Count  Dtype  \n",
      "---  ------    --------------  -----  \n",
      " 0   Duration  169 non-null    int64  \n",
      " 1   Date      168 non-null    object \n",
      " 2   Pulse     169 non-null    int64  \n",
      " 3   Maxpulse  169 non-null    int64  \n",
      " 4   Calories  164 non-null    float64\n",
      "dtypes: float64(1), int64(3), object(1)\n",
      "memory usage: 6.7+ KB\n",
      "None\n"
     ]
    }
   ],
   "source": [
    "print(workouts_dataframe.info())"
   ]
  },
  {
   "cell_type": "code",
   "execution_count": 37,
   "metadata": {},
   "outputs": [
    {
     "name": "stdout",
     "output_type": "stream",
     "text": [
      "    Duration        Date  Pulse  Maxpulse  Calories\n",
      "0         60  01/12/2020    110       130     409.1\n",
      "1         60  02/12/2020    117       145     479.0\n",
      "2         60  03/12/2020    103       135     340.0\n",
      "3         45  04/12/2020    109       175     282.4\n",
      "4         45  05/12/2020    117       148     406.0\n",
      "5        450  06/12/2020    102       127     300.0\n",
      "6         60  07/12/2020    110       136     374.0\n",
      "7         45  08/12/2020    104       134     253.3\n",
      "8         30  09/12/2020    109       133     195.1\n",
      "9         60  10/12/2020     98       124     269.0\n",
      "10        60  10/12/2020     98       124     269.0\n",
      "11        60  12/12/2020    100       120     250.7\n",
      "12        60  13/12/2020    106       128     345.3\n",
      "13        60  14/12/2020    104       132     379.3\n",
      "14        60  15/12/2020     98       123     275.0\n",
      "15        60  16/12/2020     98       120     215.2\n",
      "16        60  17/12/2020    100       120     300.0\n",
      "17        45  18/12/2020     90       112       NaN\n",
      "18        60  19/12/2020    103       123     323.0\n",
      "19        45  20/12/2020     97       125     243.0\n",
      "20        60  21/12/2020    108       131     364.2\n",
      "21        45    20201222    100       119     282.0\n",
      "22        60  23/12/2020    130       101     300.0\n",
      "23        45         NaN    105       132     246.0\n",
      "24        60  25/12/2020    102       126     334.5\n",
      "25        60  26/12/2020    100       120     250.0\n",
      "26        60  27/12/2020     92       118     241.0\n",
      "27        60  28/12/2020    103       132       NaN\n",
      "28        60  29/12/2020    100       132     280.0\n",
      "29        60  30/12/2020    102       129     380.3\n"
     ]
    }
   ],
   "source": [
    "print(workouts_dataframe.head(30))"
   ]
  },
  {
   "cell_type": "code",
   "execution_count": 38,
   "metadata": {},
   "outputs": [
    {
     "name": "stdout",
     "output_type": "stream",
     "text": [
      "    Duration        Date  Pulse  Maxpulse  Calories\n",
      "0         60  01/12/2020    110       130     409.1\n",
      "1         60  02/12/2020    117       145     479.0\n",
      "2         60  03/12/2020    103       135     340.0\n",
      "3         45  04/12/2020    109       175     282.4\n",
      "4         45  05/12/2020    117       148     406.0\n",
      "5        450  06/12/2020    102       127     300.0\n",
      "6         60  07/12/2020    110       136     374.0\n",
      "7         45  08/12/2020    104       134     253.3\n",
      "8         30  09/12/2020    109       133     195.1\n",
      "9         60  10/12/2020     98       124     269.0\n",
      "10        60  10/12/2020     98       124     269.0\n",
      "11        60  12/12/2020    100       120     250.7\n",
      "12        60  13/12/2020    106       128     345.3\n",
      "13        60  14/12/2020    104       132     379.3\n",
      "14        60  15/12/2020     98       123     275.0\n",
      "15        60  16/12/2020     98       120     215.2\n",
      "16        60  17/12/2020    100       120     300.0\n",
      "18        60  19/12/2020    103       123     323.0\n",
      "19        45  20/12/2020     97       125     243.0\n",
      "20        60  21/12/2020    108       131     364.2\n",
      "21        45    20201222    100       119     282.0\n",
      "22        60  23/12/2020    130       101     300.0\n",
      "24        60  25/12/2020    102       126     334.5\n",
      "25        60  26/12/2020    100       120     250.0\n",
      "26        60  27/12/2020     92       118     241.0\n",
      "28        60  29/12/2020    100       132     280.0\n",
      "29        60  30/12/2020    102       129     380.3\n",
      "30        60  31/12/2020     92       115     243.0\n",
      "31        45  01/01/2021     90       112     180.1\n",
      "32        60  02/01/2021    101       124     299.0\n"
     ]
    }
   ],
   "source": [
    "non_empty_df = workouts_dataframe.dropna()\n",
    "print(non_empty_df.head(30))"
   ]
  },
  {
   "cell_type": "code",
   "execution_count": 39,
   "metadata": {},
   "outputs": [
    {
     "name": "stdout",
     "output_type": "stream",
     "text": [
      "    Duration        Date  Pulse  Maxpulse    Calories\n",
      "0         60  01/12/2020    110       130  409.100000\n",
      "1         60  02/12/2020    117       145  479.000000\n",
      "2         60  03/12/2020    103       135  340.000000\n",
      "3         45  04/12/2020    109       175  282.400000\n",
      "4         45  05/12/2020    117       148  406.000000\n",
      "5        450  06/12/2020    102       127  300.000000\n",
      "6         60  07/12/2020    110       136  374.000000\n",
      "7         45  08/12/2020    104       134  253.300000\n",
      "8         30  09/12/2020    109       133  195.100000\n",
      "9         60  10/12/2020     98       124  269.000000\n",
      "10        60  10/12/2020     98       124  269.000000\n",
      "11        60  12/12/2020    100       120  250.700000\n",
      "12        60  13/12/2020    106       128  345.300000\n",
      "13        60  14/12/2020    104       132  379.300000\n",
      "14        60  15/12/2020     98       123  275.000000\n",
      "15        60  16/12/2020     98       120  215.200000\n",
      "16        60  17/12/2020    100       120  300.000000\n",
      "17        45  18/12/2020     90       112  375.422561\n",
      "18        60  19/12/2020    103       123  323.000000\n",
      "19        45  20/12/2020     97       125  243.000000\n",
      "20        60  21/12/2020    108       131  364.200000\n",
      "21        45    20201222    100       119  282.000000\n",
      "22        60  23/12/2020    130       101  300.000000\n",
      "23        45         NaN    105       132  246.000000\n",
      "24        60  25/12/2020    102       126  334.500000\n",
      "25        60  26/12/2020    100       120  250.000000\n",
      "26        60  27/12/2020     92       118  241.000000\n",
      "27        60  28/12/2020    103       132  375.422561\n",
      "28        60  29/12/2020    100       132  280.000000\n",
      "29        60  30/12/2020    102       129  380.300000\n"
     ]
    }
   ],
   "source": [
    "average_calories = workouts_dataframe[\"Calories\"].mean()\n",
    "workouts_dataframe[\"Calories\"].fillna(average_calories, inplace=True)\n",
    "print(workouts_dataframe.head(30))"
   ]
  },
  {
   "cell_type": "code",
   "execution_count": 40,
   "metadata": {},
   "outputs": [
    {
     "name": "stdout",
     "output_type": "stream",
     "text": [
      "    Duration       Date  Pulse  Maxpulse    Calories\n",
      "0         60 2020-01-12    110       130  409.100000\n",
      "1         60 2020-02-12    117       145  479.000000\n",
      "2         60 2020-03-12    103       135  340.000000\n",
      "3         45 2020-04-12    109       175  282.400000\n",
      "4         45 2020-05-12    117       148  406.000000\n",
      "5        450 2020-06-12    102       127  300.000000\n",
      "6         60 2020-07-12    110       136  374.000000\n",
      "7         45 2020-08-12    104       134  253.300000\n",
      "8         30 2020-09-12    109       133  195.100000\n",
      "9         60 2020-10-12     98       124  269.000000\n",
      "10        60 2020-10-12     98       124  269.000000\n",
      "11        60 2020-12-12    100       120  250.700000\n",
      "12        60 2020-12-13    106       128  345.300000\n",
      "13        60 2020-12-14    104       132  379.300000\n",
      "14        60 2020-12-15     98       123  275.000000\n",
      "15        60 2020-12-16     98       120  215.200000\n",
      "16        60 2020-12-17    100       120  300.000000\n",
      "17        45 2020-12-18     90       112  375.422561\n",
      "18        60 2020-12-19    103       123  323.000000\n",
      "19        45 2020-12-20     97       125  243.000000\n",
      "20        60 2020-12-21    108       131  364.200000\n",
      "21        45 2020-12-22    100       119  282.000000\n",
      "22        60 2020-12-23    130       101  300.000000\n",
      "23        45        NaT    105       132  246.000000\n",
      "24        60 2020-12-25    102       126  334.500000\n",
      "25        60 2020-12-26    100       120  250.000000\n",
      "26        60 2020-12-27     92       118  241.000000\n",
      "27        60 2020-12-28    103       132  375.422561\n",
      "28        60 2020-12-29    100       132  280.000000\n",
      "29        60 2020-12-30    102       129  380.300000\n"
     ]
    },
    {
     "name": "stderr",
     "output_type": "stream",
     "text": [
      "/var/folders/68/dq8w46zd1tj31x5qkpxxvwzr0000gn/T/ipykernel_70882/3747853514.py:1: UserWarning: Parsing dates in DD/MM/YYYY format when dayfirst=False (the default) was specified. This may lead to inconsistently parsed dates! Specify a format to ensure consistent parsing.\n",
      "  workouts_dataframe['Date'] = pd.to_datetime(workouts_dataframe['Date'])\n"
     ]
    }
   ],
   "source": [
    "workouts_dataframe['Date'] = pd.to_datetime(workouts_dataframe['Date'])\n",
    "print(workouts_dataframe.head(30))\n"
   ]
  },
  {
   "cell_type": "code",
   "execution_count": 42,
   "metadata": {},
   "outputs": [],
   "source": [
    "for x in workouts_dataframe.index:\n",
    "  if workouts_dataframe.loc[x, \"Duration\"] > 120:\n",
    "    workouts_dataframe.loc[x, \"Duration\"] = 120"
   ]
  },
  {
   "cell_type": "code",
   "execution_count": 44,
   "metadata": {},
   "outputs": [
    {
     "name": "stdout",
     "output_type": "stream",
     "text": [
      "0     False\n",
      "1     False\n",
      "2     False\n",
      "3     False\n",
      "4     False\n",
      "5     False\n",
      "6     False\n",
      "7     False\n",
      "8     False\n",
      "9     False\n",
      "10     True\n",
      "11    False\n",
      "12    False\n",
      "13    False\n",
      "14    False\n",
      "15    False\n",
      "16    False\n",
      "17    False\n",
      "18    False\n",
      "19    False\n",
      "20    False\n",
      "21    False\n",
      "22    False\n",
      "23    False\n",
      "24    False\n",
      "25    False\n",
      "26    False\n",
      "27    False\n",
      "28    False\n",
      "29    False\n",
      "dtype: bool\n"
     ]
    }
   ],
   "source": [
    "duplicates = workouts_dataframe.duplicated()\n",
    "print(duplicates.head(30))"
   ]
  },
  {
   "cell_type": "code",
   "execution_count": 45,
   "metadata": {},
   "outputs": [
    {
     "name": "stdout",
     "output_type": "stream",
     "text": [
      "     Duration       Date  Pulse  Maxpulse     Calories\n",
      "0          60 2020-01-12    110       130   409.100000\n",
      "1          60 2020-02-12    117       145   479.000000\n",
      "2          60 2020-03-12    103       135   340.000000\n",
      "3          45 2020-04-12    109       175   282.400000\n",
      "4          45 2020-05-12    117       148   406.000000\n",
      "5         120 2020-06-12    102       127   300.000000\n",
      "6          60 2020-07-12    110       136   374.000000\n",
      "7          45 2020-08-12    104       134   253.300000\n",
      "8          30 2020-09-12    109       133   195.100000\n",
      "9          60 2020-10-12     98       124   269.000000\n",
      "11         60 2020-12-12    100       120   250.700000\n",
      "12         60 2020-12-13    106       128   345.300000\n",
      "13         60 2020-12-14    104       132   379.300000\n",
      "14         60 2020-12-15     98       123   275.000000\n",
      "15         60 2020-12-16     98       120   215.200000\n",
      "16         60 2020-12-17    100       120   300.000000\n",
      "17         45 2020-12-18     90       112   375.422561\n",
      "18         60 2020-12-19    103       123   323.000000\n",
      "19         45 2020-12-20     97       125   243.000000\n",
      "20         60 2020-12-21    108       131   364.200000\n",
      "21         45 2020-12-22    100       119   282.000000\n",
      "22         60 2020-12-23    130       101   300.000000\n",
      "23         45        NaT    105       132   246.000000\n",
      "24         60 2020-12-25    102       126   334.500000\n",
      "25         60 2020-12-26    100       120   250.000000\n",
      "26         60 2020-12-27     92       118   241.000000\n",
      "27         60 2020-12-28    103       132   375.422561\n",
      "28         60 2020-12-29    100       132   280.000000\n",
      "29         60 2020-12-30    102       129   380.300000\n",
      "30         60 2020-12-31     92       115   243.000000\n",
      "31         45 2021-01-01     90       112   180.100000\n",
      "32         60 2021-02-01    101       124   299.000000\n",
      "33         60 2021-03-01     93       113   223.000000\n",
      "34         60 2021-04-01    107       136   361.000000\n",
      "35         60 2021-05-01    114       140   415.000000\n",
      "36         60 2021-06-01    102       127   300.000000\n",
      "37         60 2021-07-01    100       120   300.000000\n",
      "38         60 2021-08-01    100       120   300.000000\n",
      "39         45 2021-09-01    104       129   266.000000\n",
      "40         45 2021-10-01     90       112   180.100000\n",
      "41         60 2021-11-01     98       126   286.000000\n",
      "42         60 2021-12-01    100       122   329.400000\n",
      "43         60 2021-01-13    111       138   400.000000\n",
      "44         60 2021-01-14    111       131   397.000000\n",
      "45         60 2021-01-15     99       119   273.000000\n",
      "46         60 2021-01-16    109       153   387.600000\n",
      "47         45 2021-01-17    111       136   300.000000\n",
      "48         45 2021-01-18    108       129   298.000000\n",
      "49         60 2021-01-19    111       139   397.600000\n",
      "50         60 2021-01-20    107       136   380.200000\n",
      "51         80 2021-01-21    123       146   643.100000\n",
      "52         60 2021-01-22    106       130   263.000000\n",
      "53         60 2021-01-23    118       151   486.000000\n",
      "54         30 2021-01-24    136       175   238.000000\n",
      "55         60 2021-01-25    121       146   450.700000\n",
      "56         60 2021-01-26    118       121   413.000000\n",
      "57         45 2021-01-27    115       144   305.000000\n",
      "58         20 2021-01-28    153       172   226.400000\n",
      "59         45 2021-01-29    123       152   321.000000\n",
      "60        120 2021-01-30    108       160  1376.000000\n",
      "61        120 2021-01-31    110       137  1034.400000\n",
      "62        120 2021-01-02    109       135   853.000000\n",
      "63         45 2021-02-02    118       141   341.000000\n",
      "64         20 2021-03-02    110       130   131.400000\n",
      "65        120 2021-04-02     90       130   800.400000\n",
      "66        120 2021-05-02    105       135   873.400000\n",
      "67        120 2021-06-02    107       130   816.000000\n",
      "68         20 2021-07-02    106       136   110.400000\n",
      "69        120 2021-08-02    108       143  1500.200000\n",
      "70        120 2021-09-02     97       129  1115.000000\n",
      "71         60 2021-10-02    109       153   387.600000\n",
      "72         90 2021-11-02    100       127   700.000000\n",
      "73        120 2021-12-02     97       127   953.200000\n",
      "74         45 2021-02-13    114       146   304.000000\n",
      "75         90 2021-02-14     98       125   563.200000\n",
      "76         45 2021-02-15    105       134   251.000000\n",
      "77         45 2021-02-16    110       141   300.000000\n",
      "78        120 2021-02-17    100       130   500.400000\n",
      "79        120 2021-02-18    100       131  1729.000000\n",
      "80         30 2021-02-19    159       182   319.200000\n",
      "81         45 2021-02-20    149       169   344.000000\n",
      "82         30 2021-02-21    103       139   151.100000\n",
      "83        120 2021-02-22    100       130   500.000000\n",
      "84         45 2021-02-23    100       120   225.300000\n",
      "85         30 2021-02-24    151       170   300.000000\n",
      "86         45 2021-02-25    102       136   234.000000\n",
      "87        120 2021-02-26    100       157  1000.100000\n",
      "88         45 2021-02-27    129       103   242.000000\n",
      "89         20 2021-02-28     83       107    50.300000\n",
      "90        120 2021-01-03    101       127   600.100000\n",
      "91         45 2021-02-03    107       137   375.422561\n",
      "92         30 2021-03-03     90       107   105.300000\n",
      "93         15 2021-04-03     80       100    50.500000\n",
      "94         20 2021-05-03    150       171   127.400000\n",
      "95         20 2021-06-03    151       168   229.400000\n",
      "96         30 2021-07-03     95       128   128.200000\n",
      "97         25 2021-08-03    152       168   244.200000\n",
      "98         30 2021-09-03    109       131   188.200000\n",
      "99         90 2021-10-03     93       124   604.100000\n",
      "100        20 2021-11-03     95       112    77.700000\n",
      "101        90 2021-12-03     90       110   500.000000\n",
      "102        90 2021-03-13     90       100   500.000000\n",
      "103        90 2021-03-14     90       100   500.400000\n",
      "104        30 2021-03-15     92       108    92.700000\n",
      "105        30 2021-03-16     93       128   124.000000\n",
      "106       120 2021-03-17     90       120   800.300000\n",
      "107        30 2021-03-18     90       120    86.200000\n",
      "108        90 2021-03-19     90       120   500.300000\n",
      "109       120 2021-03-20    137       184  1860.400000\n",
      "110        60 2021-03-21    102       124   325.200000\n",
      "111        45 2021-03-22    107       124   275.000000\n",
      "112        15 2021-03-23    124       139   124.200000\n",
      "113        45 2021-03-24    100       120   225.300000\n",
      "114        60 2021-03-25    108       131   367.600000\n",
      "115        60 2021-03-26    108       151   351.700000\n",
      "116        60 2021-03-27    116       141   443.000000\n",
      "117        60 2021-03-28     97       122   277.400000\n",
      "118        60 2021-03-29    105       125   375.422561\n",
      "119        60 2021-03-30    103       124   332.700000\n",
      "120        30 2021-03-31    112       137   193.900000\n",
      "121        45 2021-01-04    100       120   100.700000\n",
      "122        60 2021-02-04    119       169   336.700000\n",
      "123        60 2021-03-04    107       127   344.900000\n",
      "124        60 2021-04-04    111       151   368.500000\n",
      "125        60 2021-05-04     98       122   271.000000\n",
      "126        60 2021-06-04     97       124   275.300000\n",
      "127        60 2021-07-04    109       127   382.000000\n",
      "128        90 2021-08-04     99       125   466.400000\n",
      "129        60 2021-09-04    114       151   384.000000\n",
      "130        60 2021-10-04    104       134   342.500000\n",
      "131        60 2021-11-04    107       138   357.500000\n",
      "132        60 2021-12-04    103       133   335.000000\n",
      "133        60 2021-04-13    106       132   327.500000\n",
      "134        60 2021-04-14    103       136   339.000000\n",
      "135        20 2021-04-15    136       156   189.000000\n",
      "136        45 2021-04-16    117       143   317.700000\n",
      "137        45 2021-04-17    115       137   318.000000\n",
      "138        45 2021-04-18    113       138   308.000000\n",
      "139        20 2021-04-19    141       162   222.400000\n",
      "140        60 2021-04-20    108       135   390.000000\n",
      "141        60 2021-04-21     97       127   375.422561\n",
      "142        45 2021-04-22    100       120   250.400000\n",
      "143        45 2021-04-23    122       149   335.400000\n",
      "144        60 2021-04-24    136       170   470.200000\n",
      "145        45 2021-04-25    106       126   270.800000\n",
      "146        60 2021-04-26    107       136   400.000000\n",
      "147        60 2021-04-27    112       146   361.900000\n",
      "148        30 2021-04-28    103       127   185.000000\n",
      "149        60 2021-04-29    110       150   409.400000\n",
      "150        60 2021-04-30    106       134   343.000000\n",
      "151        60 2021-01-05    109       129   353.200000\n",
      "152        60 2021-02-05    109       138   374.000000\n",
      "153        30 2021-03-05    150       167   275.800000\n",
      "154        60 2021-04-05    105       128   328.000000\n",
      "155        60 2021-05-05    111       151   368.500000\n",
      "156        60 2021-06-05     97       131   270.400000\n",
      "157        60 2021-07-05    100       120   270.400000\n",
      "158        60 2021-08-05    114       150   382.800000\n",
      "159        30 2021-09-05     80       120   240.900000\n",
      "160        30 2021-10-05     85       120   250.400000\n",
      "161        45 2021-11-05     90       130   260.400000\n",
      "162        45 2021-12-05     95       130   270.000000\n",
      "163        45 2021-05-13    100       140   280.900000\n",
      "164        60 2021-05-14    105       140   290.800000\n",
      "165        60 2021-05-15    110       145   300.000000\n",
      "166        60 2021-05-16    115       145   310.200000\n",
      "167        75 2021-05-17    120       150   320.400000\n",
      "168        75 2021-05-18    125       150   330.400000\n"
     ]
    }
   ],
   "source": [
    "workouts_dataframe.drop_duplicates(inplace=True)\n",
    "print(workouts_dataframe.to_string())"
   ]
  },
  {
   "cell_type": "code",
   "execution_count": 46,
   "metadata": {},
   "outputs": [
    {
     "name": "stderr",
     "output_type": "stream",
     "text": [
      "/var/folders/68/dq8w46zd1tj31x5qkpxxvwzr0000gn/T/ipykernel_70882/983867059.py:1: FutureWarning: The default value of numeric_only in DataFrame.corr is deprecated. In a future version, it will default to False. Select only valid columns or specify the value of numeric_only to silence this warning.\n",
      "  workouts_dataframe.corr()\n"
     ]
    },
    {
     "data": {
      "text/html": [
       "<div>\n",
       "<style scoped>\n",
       "    .dataframe tbody tr th:only-of-type {\n",
       "        vertical-align: middle;\n",
       "    }\n",
       "\n",
       "    .dataframe tbody tr th {\n",
       "        vertical-align: top;\n",
       "    }\n",
       "\n",
       "    .dataframe thead th {\n",
       "        text-align: right;\n",
       "    }\n",
       "</style>\n",
       "<table border=\"1\" class=\"dataframe\">\n",
       "  <thead>\n",
       "    <tr style=\"text-align: right;\">\n",
       "      <th></th>\n",
       "      <th>Duration</th>\n",
       "      <th>Pulse</th>\n",
       "      <th>Maxpulse</th>\n",
       "      <th>Calories</th>\n",
       "    </tr>\n",
       "  </thead>\n",
       "  <tbody>\n",
       "    <tr>\n",
       "      <th>Duration</th>\n",
       "      <td>1.000000</td>\n",
       "      <td>-0.239401</td>\n",
       "      <td>-0.077781</td>\n",
       "      <td>0.800830</td>\n",
       "    </tr>\n",
       "    <tr>\n",
       "      <th>Pulse</th>\n",
       "      <td>-0.239401</td>\n",
       "      <td>1.000000</td>\n",
       "      <td>0.789675</td>\n",
       "      <td>0.024665</td>\n",
       "    </tr>\n",
       "    <tr>\n",
       "      <th>Maxpulse</th>\n",
       "      <td>-0.077781</td>\n",
       "      <td>0.789675</td>\n",
       "      <td>1.000000</td>\n",
       "      <td>0.203627</td>\n",
       "    </tr>\n",
       "    <tr>\n",
       "      <th>Calories</th>\n",
       "      <td>0.800830</td>\n",
       "      <td>0.024665</td>\n",
       "      <td>0.203627</td>\n",
       "      <td>1.000000</td>\n",
       "    </tr>\n",
       "  </tbody>\n",
       "</table>\n",
       "</div>"
      ],
      "text/plain": [
       "          Duration     Pulse  Maxpulse  Calories\n",
       "Duration  1.000000 -0.239401 -0.077781  0.800830\n",
       "Pulse    -0.239401  1.000000  0.789675  0.024665\n",
       "Maxpulse -0.077781  0.789675  1.000000  0.203627\n",
       "Calories  0.800830  0.024665  0.203627  1.000000"
      ]
     },
     "execution_count": 46,
     "metadata": {},
     "output_type": "execute_result"
    }
   ],
   "source": [
    "workouts_dataframe.corr()"
   ]
  },
  {
   "cell_type": "code",
   "execution_count": 47,
   "metadata": {},
   "outputs": [
    {
     "name": "stderr",
     "output_type": "stream",
     "text": [
      "Fontconfig warning: ignoring UTF-8: not a valid region tag\n"
     ]
    },
    {
     "data": {
      "image/png": "[encoded data removed]",
      "text/plain": [
       "<Figure size 640x480 with 1 Axes>"
      ]
     },
     "metadata": {},
     "output_type": "display_data"
    }
   ],
   "source": [
    "import matplotlib.pyplot as plt\n",
    "\n",
    "workouts_dataframe.plot()\n",
    "\n",
    "plt.show()"
   ]
  }
 ],
 "metadata": {
  "kernelspec": {
   "display_name": "Python 3.11.0 64-bit",
   "language": "python",
   "name": "python3"
  },
  "language_info": {
   "codemirror_mode": {
    "name": "ipython",
    "version": 3
   },
   "file_extension": ".py",
   "mimetype": "text/x-python",
   "name": "python",
   "nbconvert_exporter": "python",
   "pygments_lexer": "ipython3",
   "version": "3.11.0"
  },
  "orig_nbformat": 4,
  "vscode": {
   "interpreter": {
    "hash": "aee8b7b246df8f9039afb4144a1f6fd8d2ca17a180786b69acc140d282b71a49"
   }
  }
 },
 "nbformat": 4,
 "nbformat_minor": 2
}
